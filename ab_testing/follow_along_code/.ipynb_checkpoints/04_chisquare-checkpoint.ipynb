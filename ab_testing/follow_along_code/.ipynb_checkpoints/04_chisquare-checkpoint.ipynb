{
 "cells": [
  {
   "cell_type": "markdown",
   "metadata": {},
   "source": [
    "### A/B test in code for chi square\n",
    "\n",
    "Focus here is to look at change in P-value as samples are collected\n",
    "- does p-value give a definitive answer to question\n",
    "- what are the drawbacks of using this stats test"
   ]
  },
  {
   "cell_type": "markdown",
   "metadata": {},
   "source": [
    "### Imports"
   ]
  },
  {
   "cell_type": "code",
   "execution_count": 1,
   "metadata": {},
   "outputs": [],
   "source": [
    "import numpy as np\n",
    "import matplotlib.pyplot as plt\n",
    "from scipy.stats import chi2"
   ]
  },
  {
   "cell_type": "markdown",
   "metadata": {},
   "source": [
    "### Set up a DataGenerator Class"
   ]
  },
  {
   "cell_type": "code",
   "execution_count": 2,
   "metadata": {},
   "outputs": [],
   "source": [
    "# Set up data generator class\n",
    "class DataGenerator:\n",
    "    def __init__(self, p1, p2):\n",
    "        self.p1 = p1 # Probability of click for group 1\n",
    "        self.p2 = p2 # Probability of click for group 2\n",
    "    \n",
    "    def next(self):\n",
    "        '''\n",
    "        Whether person clicked on ad 1 or ad 2\n",
    "        '''\n",
    "        click1 = 1 if (np.random.random() < self.p1) else 0\n",
    "        click2 = 1 if (np.random.random() < self.p2) else 0\n",
    "        return click1, click2            "
   ]
  },
  {
   "cell_type": "markdown",
   "metadata": {},
   "source": [
    "### Get P value Function"
   ]
  },
  {
   "cell_type": "code",
   "execution_count": 3,
   "metadata": {},
   "outputs": [],
   "source": [
    "def get_p_value(T):\n",
    "    det = T[0,0]*T[1,1] - T[0,1]*T[1,0]\n",
    "    # Chi2 test stat Per previous lecture formula - terms rearranged a bit\n",
    "    c2 = float(det) / T[0].sum() * det / T[1].sum() * T.sum() / T[:,0].sum() / T[:,1].sum()\n",
    "    # Pass the test stat to the imported chi2 method\n",
    "    p = 1 - chi2.cdf(x=c2, df=1)\n",
    "    return p"
   ]
  },
  {
   "cell_type": "markdown",
   "metadata": {},
   "source": [
    "### Run Experiment Function"
   ]
  },
  {
   "cell_type": "code",
   "execution_count": 4,
   "metadata": {},
   "outputs": [],
   "source": [
    "def run_experiment(p1, p2, N):\n",
    "    '''\n",
    "    p1: prob of click for group 1\n",
    "    p2: prob of click for group 1\n",
    "    N: Number of samples\n",
    "    '''\n",
    "    # Create instance of DataGenerator\n",
    "    data = DataGenerator(p1, p2)\n",
    "    # Get p-values in an array to fill in later\n",
    "    p_values = np.empty(N)\n",
    "    # Create contingency table\n",
    "    T = np.zeros((2, 2)).astype(np.float32)\n",
    "    # Loop through each trial\n",
    "    for i in range(N):\n",
    "        # Determine if ad1 and ad 2 were clicked on (1) or not (0)\n",
    "        c1, c2 = data.next()\n",
    "        # Puts clicks in first column / no click in second\n",
    "        T[0,c1] += 1 \n",
    "        # Puts clicks in second column / no click in first\n",
    "        T[1,c2] += 1\n",
    "        # Ignore first few values because the contengency table is not yet populated\n",
    "        if i < 10:\n",
    "            p_values[i] = None\n",
    "        # Else calc the statistic\n",
    "        else:\n",
    "            p_values[i] = get_p_value(T)\n",
    "    # Once looped through, plot the p values\n",
    "    plt.plot(p_values)\n",
    "    # Also plot the threshold - assume alpha of 5%\n",
    "    plt.plot(np.ones(N)*0.05)\n",
    "    plt.show()            "
   ]
  },
  {
   "cell_type": "markdown",
   "metadata": {},
   "source": [
    "### Run The Experiment"
   ]
  },
  {
   "cell_type": "code",
   "execution_count": 5,
   "metadata": {},
   "outputs": [
    {
     "data": {
      "image/png": "[encoded data removed]",
      "text/plain": [
       "<Figure size 432x288 with 1 Axes>"
      ]
     },
     "metadata": {
      "needs_background": "light"
     },
     "output_type": "display_data"
    }
   ],
   "source": [
    "# Use a click rate of 0.1 vs 0.11 over 20000 samples\n",
    "run_experiment(0.1, 0.11, 20000)"
   ]
  },
  {
   "cell_type": "markdown",
   "metadata": {},
   "source": [
    "Run the above a few times and see each case of:\n",
    "- Becoming significant and staying there\n",
    "- Going below significance threshold and then back up\n",
    "- Stays above significance threshold and then below\n",
    "\n",
    "P Value has to be below significance threshold 5% of the time"
   ]
  }
 ],
 "metadata": {
  "kernelspec": {
   "display_name": "Python 3",
   "language": "python",
   "name": "python3"
  },
  "language_info": {
   "codemirror_mode": {
    "name": "ipython",
    "version": 3
   },
   "file_extension": ".py",
   "mimetype": "text/x-python",
   "name": "python",
   "nbconvert_exporter": "python",
   "pygments_lexer": "ipython3",
   "version": "3.7.3"
  }
 },
 "nbformat": 4,
 "nbformat_minor": 4
}
