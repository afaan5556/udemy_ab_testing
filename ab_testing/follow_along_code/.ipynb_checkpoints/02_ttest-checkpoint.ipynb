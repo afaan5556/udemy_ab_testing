{
 "cells": [
  {
   "cell_type": "markdown",
   "metadata": {},
   "source": [
    "### Imports"
   ]
  },
  {
   "cell_type": "code",
   "execution_count": 1,
   "metadata": {},
   "outputs": [],
   "source": [
    "from scipy import stats\n",
    "import numpy as np"
   ]
  },
  {
   "cell_type": "markdown",
   "metadata": {},
   "source": [
    "### Generate Data"
   ]
  },
  {
   "cell_type": "code",
   "execution_count": 2,
   "metadata": {},
   "outputs": [],
   "source": [
    "# Generate data\n",
    "N = 10 # Size of each group\n",
    "a = np.random.randn(N) + 2 # Normal/Gaussian distributed data with mean 2\n",
    "b = np.random.randn(N) # Normal/Gaussian distributed data with mean 0"
   ]
  },
  {
   "cell_type": "code",
   "execution_count": 3,
   "metadata": {},
   "outputs": [
    {
     "data": {
      "text/plain": [
       "array([ 3.05833752, -1.22903911,  2.9885035 ,  2.36158897,  2.67411   ,\n",
       "        3.27384326,  1.08638842,  1.98293385,  1.25733   ,  1.75825336])"
      ]
     },
     "execution_count": 3,
     "metadata": {},
     "output_type": "execute_result"
    }
   ],
   "source": [
    "a"
   ]
  },
  {
   "cell_type": "code",
   "execution_count": 4,
   "metadata": {},
   "outputs": [
    {
     "data": {
      "text/plain": [
       "array([ 0.75157889,  0.87754102, -0.85788306,  0.19454317, -0.46037028,\n",
       "        0.27022969,  0.68190496, -0.27027175,  1.51359477,  0.63500727])"
      ]
     },
     "execution_count": 4,
     "metadata": {},
     "output_type": "execute_result"
    }
   ],
   "source": [
    "b"
   ]
  },
  {
   "cell_type": "markdown",
   "metadata": {},
   "source": [
    "### Method 0: Fully Manual Calcs"
   ]
  },
  {
   "cell_type": "code",
   "execution_count": 5,
   "metadata": {},
   "outputs": [],
   "source": [
    "mean_a = sum(a)/len(a)"
   ]
  },
  {
   "cell_type": "code",
   "execution_count": 6,
   "metadata": {},
   "outputs": [],
   "source": [
    "mean_b = sum(b)/len(b)"
   ]
  },
  {
   "cell_type": "code",
   "execution_count": 7,
   "metadata": {},
   "outputs": [],
   "source": [
    "var_a_manual = 1/(len(a)-1)*sum([(i - mean_a)**2 for i in a])"
   ]
  },
  {
   "cell_type": "code",
   "execution_count": 8,
   "metadata": {},
   "outputs": [],
   "source": [
    "var_b_manual = 1/(len(b)-1)*sum([(i - mean_b)**2 for i in b])"
   ]
  },
  {
   "cell_type": "code",
   "execution_count": 9,
   "metadata": {},
   "outputs": [
    {
     "name": "stdout",
     "output_type": "stream",
     "text": [
      "Mean, var a: 1.9212249775389147, 1.7905201237206094 | Mean, var b: 0.3335874669985309, 0.5014625453762026\n"
     ]
    }
   ],
   "source": [
    "print('Mean, var a: {}, {} | Mean, var b: {}, {}'.format(mean_a, var_a_manual, mean_b, var_b_manual))"
   ]
  },
  {
   "cell_type": "markdown",
   "metadata": {},
   "source": [
    "### Method 1: np Manual Calcs"
   ]
  },
  {
   "cell_type": "code",
   "execution_count": 10,
   "metadata": {},
   "outputs": [],
   "source": [
    "# Calc variances\n",
    "var_a = a.var(ddof=1) # ddof=1 goes from MLE of variance to unbiased estimate (N-1 instead of N)\n",
    "var_b = b.var(ddof=1)"
   ]
  },
  {
   "cell_type": "code",
   "execution_count": 11,
   "metadata": {},
   "outputs": [
    {
     "name": "stdout",
     "output_type": "stream",
     "text": [
      "Mean, var a: 1.9212249775389154, 1.7905201237206099 | Mean, var b: 0.3335874669985309, 0.5014625453762026\n"
     ]
    }
   ],
   "source": [
    "print('Mean, var a: {}, {} | Mean, var b: {}, {}'.format(a.mean(), var_a, b.mean(), var_b))"
   ]
  },
  {
   "cell_type": "code",
   "execution_count": 12,
   "metadata": {},
   "outputs": [],
   "source": [
    "# Calc pooled stdev\n",
    "s = np.sqrt((var_a + var_b) / 2)"
   ]
  },
  {
   "cell_type": "code",
   "execution_count": 13,
   "metadata": {},
   "outputs": [],
   "source": [
    "# Calc t stat\n",
    "t = (a.mean() - b.mean()) / (s * np.sqrt(2.0/N))"
   ]
  },
  {
   "cell_type": "code",
   "execution_count": 14,
   "metadata": {},
   "outputs": [],
   "source": [
    "# Calc degrees of freedom\n",
    "df = 2*N - 2"
   ]
  },
  {
   "cell_type": "code",
   "execution_count": 15,
   "metadata": {},
   "outputs": [],
   "source": [
    "# Get P-value\n",
    "p = 1 - stats.t.cdf(t, df=df)"
   ]
  },
  {
   "cell_type": "code",
   "execution_count": 16,
   "metadata": {},
   "outputs": [
    {
     "name": "stdout",
     "output_type": "stream",
     "text": [
      "t:3.3162379626958884, p:0.0038410912076545234\n"
     ]
    }
   ],
   "source": [
    "print(\"t:{}, p:{}\".format(t, 2*p))"
   ]
  },
  {
   "cell_type": "markdown",
   "metadata": {},
   "source": [
    "### Method 2: Builtin Scipy Functions"
   ]
  },
  {
   "cell_type": "code",
   "execution_count": 17,
   "metadata": {},
   "outputs": [],
   "source": [
    "t2, p2 = stats.ttest_ind(a, b)"
   ]
  },
  {
   "cell_type": "code",
   "execution_count": 18,
   "metadata": {},
   "outputs": [
    {
     "name": "stdout",
     "output_type": "stream",
     "text": [
      "t2:3.3162379626958884, p2:0.0038410912076545125\n"
     ]
    }
   ],
   "source": [
    "print(\"t2:{}, p2:{}\".format(t2, p2))"
   ]
  },
  {
   "cell_type": "code",
   "execution_count": null,
   "metadata": {},
   "outputs": [],
   "source": []
  }
 ],
 "metadata": {
  "kernelspec": {
   "display_name": "Python 3",
   "language": "python",
   "name": "python3"
  },
  "language_info": {
   "codemirror_mode": {
    "name": "ipython",
    "version": 3
   },
   "file_extension": ".py",
   "mimetype": "text/x-python",
   "name": "python",
   "nbconvert_exporter": "python",
   "pygments_lexer": "ipython3",
   "version": "3.7.3"
  }
 },
 "nbformat": 4,
 "nbformat_minor": 4
}
