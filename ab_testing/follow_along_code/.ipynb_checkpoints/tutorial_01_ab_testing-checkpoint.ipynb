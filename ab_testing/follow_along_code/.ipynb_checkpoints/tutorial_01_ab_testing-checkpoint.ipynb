{
 "cells": [
  {
   "cell_type": "markdown",
   "metadata": {},
   "source": [
    "# A/B Test Significance in Python\n",
    "**Samuel Hinton - [CosmicCoding](https://cosmiccoding.com.au/tutorials/ab_tests)**"
   ]
  },
  {
   "cell_type": "markdown",
   "metadata": {},
   "source": [
    "## Example Problem\n",
    "Let us assume you have:\n",
    "- 1000 users\n",
    "- 550 were directed to site A, 450 to site B\n",
    "- In site A, 48 users converted\n",
    "- In site B, 56 users converted\n",
    "\n",
    "**Is this a statistically significant result?**"
   ]
  },
  {
   "cell_type": "markdown",
   "metadata": {},
   "source": [
    "## 1. Manual Method"
   ]
  },
  {
   "cell_type": "code",
   "execution_count": 47,
   "metadata": {},
   "outputs": [
    {
     "name": "stdout",
     "output_type": "stream",
     "text": [
      "Rate A = 0.08727272727272728 | Rate B = 0.12444444444444444\n"
     ]
    }
   ],
   "source": [
    "num_a, num_b = 550, 450\n",
    "click_a, click_b = 48, 56\n",
    "rate_a, rate_b = click_a / num_a, click_b / num_b\n",
    "print('Rate A = {} | Rate B = {}'.format(rate_a, rate_b))"
   ]
  },
  {
   "cell_type": "markdown",
   "metadata": {},
   "source": [
    "Button clicks are binary (two discrete options are available) so this is a textbook binomial distribution, with some unknown rate for site A and site B. We don’t know the true click rate, but we can estimate it using our small sample."
   ]
  },
  {
   "cell_type": "code",
   "execution_count": 48,
   "metadata": {},
   "outputs": [],
   "source": [
    "# Imports\n",
    "import matplotlib.pyplot as plt\n",
    "from scipy.stats import binom\n",
    "import numpy as np"
   ]
  },
  {
   "cell_type": "markdown",
   "metadata": {},
   "source": [
    "### Use Bionomial Probability Mass Function (pmf) to compare the cases"
   ]
  },
  {
   "cell_type": "code",
   "execution_count": 70,
   "metadata": {},
   "outputs": [],
   "source": [
    "# Determine the probability of having x number of click throughs\n",
    "clicks = np.arange(20, 80) # A range that captures the 48 and 56 clicks well\n",
    "bion_prob_a = binom(num_a, rate_a).pmf(clicks) # A bionomial distribution with sample size num_a and probability rate_a\n",
    "bion_prob_b = binom(num_b, rate_b).pmf(clicks) # A bionomial distribution with sample size num_b and probability rate_b"
   ]
  },
  {
   "cell_type": "code",
   "execution_count": 76,
   "metadata": {},
   "outputs": [
    {
     "data": {
      "text/plain": [
       "Text(0, 0.5, 'Probability')"
      ]
     },
     "execution_count": 76,
     "metadata": {},
     "output_type": "execute_result"
    },
    {
     "data": {
      "image/png": "[encoded data removed]",
      "text/plain": [
       "<Figure size 432x288 with 1 Axes>"
      ]
     },
     "metadata": {
      "needs_background": "light"
     },
     "output_type": "display_data"
    }
   ],
   "source": [
    "# Make bar plots to compare the pmf distributions\n",
    "plt.bar(clicks, bion_prob_a, label=\"A\", alpha=0.7)\n",
    "plt.bar(clicks, bion_prob_b, label=\"B\", alpha=0.7)\n",
    "plt.legend(frameon=False)\n",
    "plt.xlabel(\"Num converted\"); plt.ylabel(\"Probability\")"
   ]
  },
  {
   "cell_type": "markdown",
   "metadata": {},
   "source": [
    "- **B** has an edge\n",
    "- But it is certaintly possible if we pick two random points according to the histograms for **A** and **B**, that **A** might actually be higher than **B**!"
   ]
  },
  {
   "cell_type": "markdown",
   "metadata": {},
   "source": [
    "### Use Normal Distribution Approximation of Bionomial Distribution"
   ]
  },
  {
   "cell_type": "markdown",
   "metadata": {},
   "source": [
    "As we’re interested in the average conversion, or average time spent on the site, this averaging of an underlying distribution means our final estimate will be well approximated by a normal distribution."
   ]
  },
  {
   "cell_type": "code",
   "execution_count": 77,
   "metadata": {},
   "outputs": [],
   "source": [
    "from scipy.stats import norm"
   ]
  },
  {
   "cell_type": "markdown",
   "metadata": {},
   "source": [
    "Get standard deviations for A and B using the [normal approx of bionomial distributions](https://en.wikipedia.org/wiki/Binomial_distribution#Normal_approximation)"
   ]
  },
  {
   "cell_type": "code",
   "execution_count": 78,
   "metadata": {},
   "outputs": [],
   "source": [
    "# Takes form sqrt(p*(1-p)/n)\n",
    "std_a = np.sqrt(rate_a * (1 - rate_a) / num_a)\n",
    "std_b = np.sqrt(rate_b * (1 - rate_b) / num_b)"
   ]
  },
  {
   "cell_type": "markdown",
   "metadata": {},
   "source": [
    "### Get Normal Distribution Probability Distribution Function (pdf) to compare the cases"
   ]
  },
  {
   "cell_type": "code",
   "execution_count": 79,
   "metadata": {},
   "outputs": [],
   "source": [
    "# Turn into distributions\n",
    "click_rate = np.linspace(0, 0.2, 200)\n",
    "norm_prob_a = norm(rate_a, std_a).pdf(click_rate)\n",
    "norm_prob_b = norm(rate_b, std_b).pdf(click_rate)"
   ]
  },
  {
   "cell_type": "code",
   "execution_count": 80,
   "metadata": {},
   "outputs": [
    {
     "data": {
      "image/png": "[encoded data removed]",
      "text/plain": [
       "<Figure size 432x288 with 1 Axes>"
      ]
     },
     "metadata": {
      "needs_background": "light"
     },
     "output_type": "display_data"
    }
   ],
   "source": [
    "# Make bar plots to compare the cases\n",
    "plt.plot(click_rate, norm_prob_a, label=\"A\")\n",
    "plt.plot(click_rate, norm_prob_b, label=\"B\")\n",
    "plt.legend(frameon=False)\n",
    "plt.xlabel(\"Conversion rate\"); plt.ylabel(\"Probability\");"
   ]
  },
  {
   "cell_type": "markdown",
   "metadata": {},
   "source": [
    "- This is a better plot than the first one, because we’ve removed the confusing effect of site A and site B having a slightly different number of visitors had\n",
    "- But the question is still the same: What is the chance that a draw from B is higher than a draw from A?\n",
    "- Is it significant?"
   ]
  },
  {
   "cell_type": "markdown",
   "metadata": {},
   "source": [
    "#### To answer this, use the fact that the sum (or difference) of normally distributed random numbers is also a normal\n",
    "[Proof here](https://en.wikipedia.org/wiki/Sum_of_normally_distributed_random_variables#Independent_random_variables)"
   ]
  },
  {
   "cell_type": "code",
   "execution_count": 84,
   "metadata": {},
   "outputs": [],
   "source": [
    "# 1. Get the difference in the means (rates)\n",
    "rate_diff = rate_b - rate_a"
   ]
  },
  {
   "cell_type": "code",
   "execution_count": 85,
   "metadata": {},
   "outputs": [],
   "source": [
    "# 2. Get the sums of the variance\n",
    "var_sum = np.sqrt(std_a**2 + std_b**2)"
   ]
  },
  {
   "cell_type": "code",
   "execution_count": 86,
   "metadata": {},
   "outputs": [],
   "source": [
    "# 3. Get the z-score\n",
    "z_score = rate_diff / var_sum"
   ]
  },
  {
   "cell_type": "code",
   "execution_count": 87,
   "metadata": {},
   "outputs": [],
   "source": [
    "# 4. Get the distribution\n",
    "p = norm(rate_diff, var_sum)"
   ]
  },
  {
   "cell_type": "code",
   "execution_count": 90,
   "metadata": {},
   "outputs": [
    {
     "data": {
      "text/plain": [
       "Text(0, 0.5, 'Prob')"
      ]
     },
     "execution_count": 90,
     "metadata": {},
     "output_type": "execute_result"
    },
    {
     "data": {
      "image/png": "[encoded data removed]",
      "text/plain": [
       "<Figure size 432x288 with 1 Axes>"
      ]
     },
     "metadata": {
      "needs_background": "light"
     },
     "output_type": "display_data"
    }
   ],
   "source": [
    "# 5. Plot the distribution\n",
    "x = np.linspace(-0.05, 0.15, 1000)\n",
    "y = p.pdf(x)\n",
    "area_under_curve = p.sf(0)\n",
    "plt.plot(x, y, label=\"pdf\")\n",
    "plt.fill_between(x, 0, y, where=x>0, label=\"Prob(b>a)\", alpha=0.3)\n",
    "plt.annotate(f\"Area={area_under_curve:0.3f}\", (0.02, 5))\n",
    "plt.legend()\n",
    "plt.xlabel(\"Difference in conversion rate\"); plt.ylabel(\"Prob\")"
   ]
  },
  {
   "cell_type": "code",
   "execution_count": 89,
   "metadata": {},
   "outputs": [
    {
     "name": "stdout",
     "output_type": "stream",
     "text": [
      "zscore is 1.890, with p-value 0.029\n"
     ]
    }
   ],
   "source": [
    "print(f\"zscore is {z_score:0.3f}, with p-value {norm().sf(z_score):0.3f}\")"
   ]
  },
  {
   "cell_type": "markdown",
   "metadata": {},
   "source": [
    "### Interpret the Result"
   ]
  },
  {
   "cell_type": "markdown",
   "metadata": {},
   "source": [
    "Using the frequentist approach, we would say:\n",
    "- Given the null hypothesis is true (that B is less then or equal to A)\n",
    "- We would expect to get this result or a result more extreme only 2.9% of the time\n",
    "- As that is a significant result (typically p < 5%), we reject the null hypothesis\n",
    "- And state that we have **evidence that B > A**"
   ]
  },
  {
   "cell_type": "markdown",
   "metadata": {},
   "source": [
    "### 1-Sided vs 2-Sided Tests"
   ]
  },
  {
   "cell_type": "markdown",
   "metadata": {},
   "source": [
    "- This was a one-tailed test - the question asked iwas if B > A\n",
    "- An alterative is the two-tailed test, where we just want to discriminate that B is different to A\n",
    "- In that case, our p-value is actually: **2 × 2.9 = 5.8** (as we have two tails, not one)\n",
    "- In that case we would want more samples before rejecting the null hypothesis if we stick to the p-value of 0.05 threshold."
   ]
  },
  {
   "cell_type": "markdown",
   "metadata": {},
   "source": [
    "### Alternately, Collapse into Simple Confidence Interval Function"
   ]
  },
  {
   "cell_type": "code",
   "execution_count": 91,
   "metadata": {},
   "outputs": [],
   "source": [
    "def get_confidence_ab_test(click_a, num_a, click_b, num_b):\n",
    "    rate_a = click_a / num_a\n",
    "    rate_b = click_b / num_b\n",
    "    std_a = np.sqrt(rate_a * (1 - rate_a) / num_a)\n",
    "    std_b = np.sqrt(rate_b * (1 - rate_b) / num_b)\n",
    "    z_score = (rate_b - rate_a) / np.sqrt(std_a**2 + std_b**2)\n",
    "    return norm.cdf(z_score)"
   ]
  },
  {
   "cell_type": "code",
   "execution_count": 98,
   "metadata": {},
   "outputs": [
    {
     "name": "stdout",
     "output_type": "stream",
     "text": [
      "0.9705973498275782\n"
     ]
    }
   ],
   "source": [
    "print(get_confidence_ab_test(48, 550, 56, 450))"
   ]
  },
  {
   "cell_type": "markdown",
   "metadata": {},
   "source": [
    "=> B is significantly higher than A at a 5% confidence level"
   ]
  },
  {
   "cell_type": "markdown",
   "metadata": {},
   "source": [
    "## 2. Scipy Builtin Methods"
   ]
  },
  {
   "cell_type": "markdown",
   "metadata": {},
   "source": [
    "### 2.1 Welsch's t-test"
   ]
  },
  {
   "cell_type": "code",
   "execution_count": 102,
   "metadata": {},
   "outputs": [
    {
     "name": "stdout",
     "output_type": "stream",
     "text": [
      "Zscore is -1.89, p-value is 0.059 (two tailed), 0.030 (one tailed)\n"
     ]
    }
   ],
   "source": [
    "from scipy.stats import ttest_ind\n",
    "a_dist = np.zeros(num_a)\n",
    "a_dist[:click_a] = 1 # Turn the clicks and non clicks into an array of 1's and 0's\n",
    "b_dist = np.zeros(num_b)\n",
    "b_dist[:click_b] = 1 # Turn the clicks and non clicks into an array of 1's and 0's\n",
    "zscore, prob = ttest_ind(a_dist, b_dist, equal_var=False)\n",
    "print(f\"Zscore is {zscore:0.2f}, p-value is {prob:0.3f} (two tailed), {prob/2:0.3f} (one tailed)\")"
   ]
  },
  {
   "cell_type": "markdown",
   "metadata": {},
   "source": [
    "### 2.2 Mann-Whitney U-test"
   ]
  },
  {
   "cell_type": "code",
   "execution_count": 103,
   "metadata": {},
   "outputs": [
    {
     "name": "stdout",
     "output_type": "stream",
     "text": [
      "Mann-Whitney U test for null hypothesis B <= A is 0.028\n"
     ]
    }
   ],
   "source": [
    "from scipy.stats import mannwhitneyu\n",
    "stat, p_value = mannwhitneyu(a_dist, b_dist, alternative=\"less\")\n",
    "print(f\"Mann-Whitney U test for null hypothesis B <= A is {p_value:0.3f}\")"
   ]
  }
 ],
 "metadata": {
  "kernelspec": {
   "display_name": "Python 3",
   "language": "python",
   "name": "python3"
  },
  "language_info": {
   "codemirror_mode": {
    "name": "ipython",
    "version": 3
   },
   "file_extension": ".py",
   "mimetype": "text/x-python",
   "name": "python",
   "nbconvert_exporter": "python",
   "pygments_lexer": "ipython3",
   "version": "3.7.3"
  }
 },
 "nbformat": 4,
 "nbformat_minor": 4
}
